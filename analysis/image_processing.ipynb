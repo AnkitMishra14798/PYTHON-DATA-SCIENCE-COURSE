{
 "cells": [
  {
   "cell_type": "code",
   "execution_count": 2,
   "metadata": {},
   "outputs": [],
   "source": [
    "import requests\n",
    "from PIL import Image\n",
    "from io import BytesIO"
   ]
  },
  {
   "cell_type": "code",
   "execution_count": 3,
   "metadata": {},
   "outputs": [],
   "source": [
    "\n",
    "def downloade_img(url):\n",
    "    response = requests.get(url)\n",
    "    img = Image.open(BytesIO(response.content))\n",
    "    return img"
   ]
  },
  {
   "cell_type": "code",
   "execution_count": 13,
   "metadata": {},
   "outputs": [],
   "source": [
    "im1 = downloade_img('https://images.unsplash.com/photo-1531297484001-80022131f5a1?ixlib=rb-4.0.3&ixid=MnwxMjA3fDB8MHxwaG90by1wYWdlfHx8fGVufDB8fHx8&auto=format&fit=crop&w=820&q=80')\n",
    "im1.save('image1.png')"
   ]
  },
  {
   "cell_type": "code",
   "execution_count": 5,
   "metadata": {},
   "outputs": [
    {
     "data": {
      "text/plain": [
       "(2126, 4608)"
      ]
     },
     "execution_count": 5,
     "metadata": {},
     "output_type": "execute_result"
    }
   ],
   "source": [
    "im2 = Image.open(r\"C:\\Users\\dbaam\\OneDrive\\Desktop\\IMG20220221131048-min.jpg\")      # r is for raw string \n",
    "im2.size"
   ]
  },
  {
   "cell_type": "code",
   "execution_count": 6,
   "metadata": {},
   "outputs": [],
   "source": [
    "im2.show()"
   ]
  },
  {
   "cell_type": "code",
   "execution_count": 7,
   "metadata": {},
   "outputs": [
    {
     "data": {
      "text/plain": [
       "{'jfif': 257,\n",
       " 'jfif_version': (1, 1),\n",
       " 'jfif_unit': 0,\n",
       " 'jfif_density': (1, 1),\n",
       " 'progressive': 1,\n",
       " 'progression': 1}"
      ]
     },
     "execution_count": 7,
     "metadata": {},
     "output_type": "execute_result"
    }
   ],
   "source": [
    "im2.info"
   ]
  },
  {
   "cell_type": "code",
   "execution_count": 8,
   "metadata": {},
   "outputs": [
    {
     "data": {
      "image/png": "[encoded data removed]",
      "text/plain": [
       "<PIL.Image.Image image mode=RGB size=100x100>"
      ]
     },
     "execution_count": 8,
     "metadata": {},
     "output_type": "execute_result"
    }
   ],
   "source": [
    "# resize image\n",
    "im2.resize((100,100))"
   ]
  },
  {
   "cell_type": "code",
   "execution_count": null,
   "metadata": {},
   "outputs": [],
   "source": [
    "im2.resize((3 * im2.width, 3* im2.height))"
   ]
  },
  {
   "cell_type": "code",
   "execution_count": 10,
   "metadata": {},
   "outputs": [],
   "source": [
    "from email.mime import image\n",
    "\n",
    "\n",
    "im2.resize((im2.width//3, im2.height//3)).save('image3.png')"
   ]
  },
  {
   "cell_type": "code",
   "execution_count": 11,
   "metadata": {},
   "outputs": [],
   "source": [
    "from PIL import ImageDraw, ImageFont"
   ]
  },
  {
   "cell_type": "code",
   "execution_count": 15,
   "metadata": {},
   "outputs": [],
   "source": [
    "im1.show()"
   ]
  },
  {
   "cell_type": "code",
   "execution_count": null,
   "metadata": {},
   "outputs": [],
   "source": [
    "im1.rotate(90)"
   ]
  },
  {
   "cell_type": "code",
   "execution_count": 21,
   "metadata": {},
   "outputs": [],
   "source": [
    "im1.rotate(30, expand=True, fillcolor='white').save('laptop1.png')"
   ]
  },
  {
   "cell_type": "code",
   "execution_count": null,
   "metadata": {},
   "outputs": [],
   "source": [
    "# Image Flip\n",
    "im1.transpose(Image.Transpose.FLIP_LEFT_RIGHT)\n",
    "# if u are getting error the use this\n",
    "# im1.transpose(Image.FLIP_LEFT_RIGH)\n"
   ]
  },
  {
   "cell_type": "code",
   "execution_count": null,
   "metadata": {},
   "outputs": [],
   "source": [
    "im1.transpose(Image.Transpose.FLIP_TOP_BOTTOM)"
   ]
  },
  {
   "cell_type": "code",
   "execution_count": 26,
   "metadata": {},
   "outputs": [],
   "source": [
    "sky = downloade_img('https://thumbs.dreamstime.com/b/blue-sky-clouds-natural-background-92316401.jpg')\n",
    "sky.save('sky.jpg')"
   ]
  },
  {
   "cell_type": "code",
   "execution_count": 27,
   "metadata": {},
   "outputs": [],
   "source": [
    "mauntain = downloade_img('https://media.gettyimages.com/photos/panorama-of-beautiful-mount-ama-dablam-in-himalayas-nepal-picture-id1164550537?s=612x612')\n",
    "mauntain.save('mountain.jpg')"
   ]
  },
  {
   "cell_type": "code",
   "execution_count": 28,
   "metadata": {},
   "outputs": [
    {
     "name": "stdout",
     "output_type": "stream",
     "text": [
      "sky image resolution:  (800, 533)\n",
      "sky format:  JPEG\n",
      "mauntain image resolution:  (612, 408)\n",
      "mauntain format:  JPEG\n"
     ]
    }
   ],
   "source": [
    "print(\"sky image resolution: \", sky.size)\n",
    "print('sky format: ', sky.format)\n",
    "print(\"mauntain image resolution: \", mauntain.size)\n",
    "print('mauntain format: ', mauntain.format)"
   ]
  },
  {
   "cell_type": "code",
   "execution_count": 48,
   "metadata": {},
   "outputs": [],
   "source": [
    "def blend_image(image_1, image_2, mode='RGBA', size=(100,100), alpha=0.5):\n",
    "    image_1 = image_1.resize(size)\n",
    "    image_2 = image_2.resize(size)\n",
    "    image_1 = image_1.convert(mode)\n",
    "    image_1 = image_2.convert(mode)\n",
    "    blended_image = Image.blend(image_1, image_2, alpha)\n",
    "    return blended_image  \n",
    "    "
   ]
  },
  {
   "cell_type": "code",
   "execution_count": 49,
   "metadata": {},
   "outputs": [],
   "source": [
    "blend_image(im2, im1, alpha=0.3, size=(1000,1000)).show()"
   ]
  },
  {
   "cell_type": "code",
   "execution_count": 56,
   "metadata": {},
   "outputs": [],
   "source": [
    "icon = Image.open(r\"E:\\library.jpg\")"
   ]
  },
  {
   "cell_type": "code",
   "execution_count": 57,
   "metadata": {},
   "outputs": [
    {
     "data": {
      "text/plain": [
       "(275, 183)"
      ]
     },
     "execution_count": 57,
     "metadata": {},
     "output_type": "execute_result"
    }
   ],
   "source": [
    "icon.size"
   ]
  },
  {
   "cell_type": "code",
   "execution_count": 62,
   "metadata": {},
   "outputs": [
    {
     "data": {
      "text/plain": [
       "(2126, 4608)"
      ]
     },
     "execution_count": 62,
     "metadata": {},
     "output_type": "execute_result"
    }
   ],
   "source": [
    "im2.size"
   ]
  },
  {
   "cell_type": "code",
   "execution_count": 36,
   "metadata": {},
   "outputs": [],
   "source": [
    "im1 = im1.convert('RGBA')\n",
    "im1.paste(icon,(0,0))\n",
    "im1.show()"
   ]
  },
  {
   "cell_type": "code",
   "execution_count": 37,
   "metadata": {},
   "outputs": [],
   "source": [
    "im1.paste(icon, (200,200))\n",
    "im1.show()"
   ]
  },
  {
   "cell_type": "code",
   "execution_count": 63,
   "metadata": {},
   "outputs": [],
   "source": [
    "def add_watermark(image, watermark, style=None, pos=(0,0)):\n",
    "    image = image.convert('RGBA')                 # convert image to RGBA\n",
    "    watermark = watermark.convert('RGBA')         # convert watermark to RGBA\n",
    "    if style == 'tile':\n",
    "        for x in range(0, image.width,watermark.width):\n",
    "            for y in range(0, image.height, watermark.height):\n",
    "                image.paste(watermark, (x,y), mask=watermark)\n",
    "    elif style is None:\n",
    "        image.paste(watermark, pos, mask=watermark)\n",
    "    return image"
   ]
  },
  {
   "cell_type": "code",
   "execution_count": 64,
   "metadata": {},
   "outputs": [],
   "source": [
    "add_watermark(im2, icon, pos=(10,10)).show()"
   ]
  },
  {
   "cell_type": "code",
   "execution_count": 54,
   "metadata": {},
   "outputs": [],
   "source": [
    "from PIL import ImageFilter"
   ]
  },
  {
   "cell_type": "code",
   "execution_count": null,
   "metadata": {},
   "outputs": [],
   "source": [
    "filters = [\n",
    "    ImageFilter.BLUR,\n",
    "    ImageFilter.CONTOUR,\n",
    "    ImageFilter.DETAIL,\n",
    "    ImageFilter.EDGE_ENHANCE,\n",
    "    ImageFilter.EMBOSS,\n",
    "    ImageFilter.FIND_EDGES,\n",
    "    ImageFilter.SMOOTH,\n",
    "    ImageFilter.MaxFilter(7),\n",
    "    ImageFilter.MinFilter(7),\n",
    "    ImageFilter.MedianFilter(3),\n",
    "    ImageFilter.ModeFilter(3),\n",
    "    ImageFilter.GaussianBlur(30),\n",
    "    ImageFilter.RankFilter(3, 3), \n",
    "]\n",
    "for filter in filters:\n",
    "    mauntain.filter(filter).show()"
   ]
  }
 ],
 "metadata": {
  "kernelspec": {
   "display_name": "Python 3.9.12 ('base')",
   "language": "python",
   "name": "python3"
  },
  "language_info": {
   "codemirror_mode": {
    "name": "ipython",
    "version": 3
   },
   "file_extension": ".py",
   "mimetype": "text/x-python",
   "name": "python",
   "nbconvert_exporter": "python",
   "pygments_lexer": "ipython3",
   "version": "3.9.12"
  },
  "orig_nbformat": 4,
  "vscode": {
   "interpreter": {
    "hash": "abfa759c7ec8c7233ad37eab08eeef1d61ab75dc829f942aba7a4fad7c215fe0"
   }
  }
 },
 "nbformat": 4,
 "nbformat_minor": 2
}
