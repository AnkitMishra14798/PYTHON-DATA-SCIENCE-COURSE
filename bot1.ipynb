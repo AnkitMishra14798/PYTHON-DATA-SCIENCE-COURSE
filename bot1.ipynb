{
 "cells": [
  {
   "cell_type": "code",
   "execution_count": 1,
   "metadata": {},
   "outputs": [
    {
     "ename": "ModuleNotFoundError",
     "evalue": "No module named 'pandas'",
     "output_type": "error",
     "traceback": [
      "\u001b[1;31m---------------------------------------------------------------------------\u001b[0m",
      "\u001b[1;31mModuleNotFoundError\u001b[0m                       Traceback (most recent call last)",
      "Cell \u001b[1;32mIn [1], line 4\u001b[0m\n\u001b[0;32m      2\u001b[0m \u001b[38;5;28;01mimport\u001b[39;00m \u001b[38;5;21;01mrequests\u001b[39;00m\n\u001b[0;32m      3\u001b[0m \u001b[38;5;28;01mimport\u001b[39;00m \u001b[38;5;21;01mdatetime\u001b[39;00m\n\u001b[1;32m----> 4\u001b[0m \u001b[38;5;28;01mimport\u001b[39;00m \u001b[38;5;21;01mpandas\u001b[39;00m \u001b[38;5;28;01mas\u001b[39;00m \u001b[38;5;21;01mpd\u001b[39;00m\n\u001b[0;32m      5\u001b[0m \u001b[38;5;28;01mfrom\u001b[39;00m \u001b[38;5;21;01mbs4\u001b[39;00m \u001b[38;5;28;01mimport\u001b[39;00m BeautifulSoup\n\u001b[0;32m      7\u001b[0m \u001b[38;5;28;01mdef\u001b[39;00m \u001b[38;5;21mget_soup\u001b[39m(url):\n",
      "\u001b[1;31mModuleNotFoundError\u001b[0m: No module named 'pandas'"
     ]
    }
   ],
   "source": [
    "import os\n",
    "import requests\n",
    "import datetime\n",
    "import pandas as pd\n",
    "from bs4 import BeautifulSoup\n",
    "\n",
    "def get_soup(url):\n",
    "    r = requests.get(url)\n",
    "    if r.status_code == 200:\n",
    "        return BeautifulSoup(r.text,\"html5lib\")\n",
    "    return None  "
   ]
  },
  {
   "cell_type": "code",
   "execution_count": null,
   "metadata": {},
   "outputs": [],
   "source": [
    "url=\"https://www.flipkart.com/search?q=tv&otracker=search&otracker1=search&marketplace=FLIPKART&as-show=on&as=off\"\n",
    "soup = get_soup(url)"
   ]
  },
  {
   "cell_type": "code",
   "execution_count": null,
   "metadata": {},
   "outputs": [],
   "source": [
    "target = soup.find(\"div\" , class_ =\"_1YokD2 _3Mn1Gg\")\n",
    "if target is not None:\n",
    "    print(\"target found\")"
   ]
  },
  {
   "cell_type": "code",
   "execution_count": null,
   "metadata": {},
   "outputs": [],
   "source": [
    "items = target.find_all(\"div\", class_ = \"_1AtVbE col-12-12\")\n",
    "print(f\"Found {len(items)} items\")"
   ]
  },
  {
   "cell_type": "code",
   "execution_count": null,
   "metadata": {},
   "outputs": [],
   "source": [
    "for item in items:\n",
    "    title = item.find(\"div\",class_=\"_4rR01T\")\n",
    "    sell_price=item.find(\"div\",class_=\"_30jeq3 _1_WHN1\")\n",
    "    orig_price=item.find(\"div\",class_=\"_3I9_wc _27UcVY\")\n",
    "    rating=item.find(\"div\",class_=\"_3LWZlK\")\n",
    "    num_ratings_reviews=item.find(\"span\",class_=\"_2_R_DZ\")\n",
    "    if title :\n",
    "      print(f\"tile = {title.text.strip()}\")\n",
    "    if sell_price :\n",
    "      print(f\"selling_price = {sell_price.text.strip()}\")\n",
    "    if orig_price:\n",
    "        print(f\"original_price = {orig_price.text.strip()}\") \n",
    "    if rating:\n",
    "        print(f\"rating = {rating.text.strip()}\") \n",
    "    if num_ratings_reviews:\n",
    "        print(f\"num_ratings_reviews = {num_ratings_reviews.text.strip()}\")  \n",
    "    print() "
   ]
  }
 ],
 "metadata": {
  "kernelspec": {
   "display_name": "Python 3.9.12 ('base')",
   "language": "python",
   "name": "python3"
  },
  "language_info": {
   "codemirror_mode": {
    "name": "ipython",
    "version": 3
   },
   "file_extension": ".py",
   "mimetype": "text/x-python",
   "name": "python",
   "nbconvert_exporter": "python",
   "pygments_lexer": "ipython3",
   "version": "3.9.12"
  },
  "orig_nbformat": 4,
  "vscode": {
   "interpreter": {
    "hash": "abfa759c7ec8c7233ad37eab08eeef1d61ab75dc829f942aba7a4fad7c215fe0"
   }
  }
 },
 "nbformat": 4,
 "nbformat_minor": 2
}
